{
  "cells": [
    {
      "cell_type": "code",
      "execution_count": null,
      "metadata": {
        "colab": {
          "base_uri": "https://localhost:8080/"
        },
        "id": "0kgCc4FQgqcE",
        "outputId": "6873f5b6-64aa-4366-a283-5a9960d776e2"
      },
      "outputs": [],
      "source": [
        "#!pip install python-binance\n",
        "import datetime \n",
        "from binance import Client\n",
        "import pandas as pd\n",
        "import numpy as np\n",
        "import seaborn as sns\n",
        "import matplotlib.pyplot as plt\n",
        "import warnings\n",
        "warnings.filterwarnings(\"ignore\")"
      ]
    },
    {
      "cell_type": "code",
      "execution_count": 57,
      "metadata": {
        "colab": {
          "base_uri": "https://localhost:8080/",
          "height": 381
        },
        "id": "uDLfW1e_gvDh",
        "outputId": "d297c2a3-a56c-40fb-bbda-0bdb631f00a0"
      },
      "outputs": [],
      "source": [
        "API_Key=\"XXXXXXXXXXXXXXXXXXXX\"\n",
        "\n",
        "Secret_Key=\"XXXXXXXXXXXXXXXXXXXX\"\n",
        "\n",
        "client = Client(API_Key, Secret_Key)\n"
      ]
    },
    {
      "cell_type": "code",
      "execution_count": 58,
      "metadata": {},
      "outputs": [
        {
          "data": {
            "text/html": [
              "<div>\n",
              "<style scoped>\n",
              "    .dataframe tbody tr th:only-of-type {\n",
              "        vertical-align: middle;\n",
              "    }\n",
              "\n",
              "    .dataframe tbody tr th {\n",
              "        vertical-align: top;\n",
              "    }\n",
              "\n",
              "    .dataframe thead th {\n",
              "        text-align: right;\n",
              "    }\n",
              "</style>\n",
              "<table border=\"1\" class=\"dataframe\">\n",
              "  <thead>\n",
              "    <tr style=\"text-align: right;\">\n",
              "      <th></th>\n",
              "      <th>asset</th>\n",
              "      <th>free</th>\n",
              "      <th>locked</th>\n",
              "    </tr>\n",
              "  </thead>\n",
              "  <tbody>\n",
              "    <tr>\n",
              "      <th>0</th>\n",
              "      <td>BTC</td>\n",
              "      <td>0.000220</td>\n",
              "      <td>0.00000000</td>\n",
              "    </tr>\n",
              "    <tr>\n",
              "      <th>4</th>\n",
              "      <td>BNB</td>\n",
              "      <td>0.011390</td>\n",
              "      <td>0.00000000</td>\n",
              "    </tr>\n",
              "    <tr>\n",
              "      <th>11</th>\n",
              "      <td>USDT</td>\n",
              "      <td>0.001565</td>\n",
              "      <td>0.00000000</td>\n",
              "    </tr>\n",
              "    <tr>\n",
              "      <th>69</th>\n",
              "      <td>MANA</td>\n",
              "      <td>0.000104</td>\n",
              "      <td>0.00000000</td>\n",
              "    </tr>\n",
              "    <tr>\n",
              "      <th>86</th>\n",
              "      <td>ADA</td>\n",
              "      <td>0.000019</td>\n",
              "      <td>0.00000000</td>\n",
              "    </tr>\n",
              "  </tbody>\n",
              "</table>\n",
              "</div>"
            ],
            "text/plain": [
              "   asset      free      locked\n",
              "0    BTC  0.000220  0.00000000\n",
              "4    BNB  0.011390  0.00000000\n",
              "11  USDT  0.001565  0.00000000\n",
              "69  MANA  0.000104  0.00000000\n",
              "86   ADA  0.000019  0.00000000"
            ]
          },
          "execution_count": 58,
          "metadata": {},
          "output_type": "execute_result"
        }
      ],
      "source": [
        "# Get account details like crypto holds in account\n",
        "acc_details=client.get_account()\n",
        "df=pd.DataFrame(acc_details[\"balances\"])\n",
        "df[\"free\"]=df[\"free\"].astype(\"float64\")\n",
        "df[df[\"free\"]!=0.0].head()"
      ]
    },
    {
      "cell_type": "code",
      "execution_count": 59,
      "metadata": {
        "id": "5rFpa4QLgx0m"
      },
      "outputs": [],
      "source": [
        "def historical_ohlcv(Symbol,timeFrame,start_date=(2018,1,1),end_date=(2022,12,31),want_csv=False):\n",
        "    \"\"\"\n",
        "    Kline/Candlestick chart intervals:\n",
        "    m -> minutes; h -> hours; d -> days; w -> weeks; M -> months\n",
        "    1m 3m 5m 15m 30m 1h 2h 4h 6h 8h 12h 1d 3d 1w 1M\n",
        "    \n",
        "    \"\"\"\n",
        "    col=[\"datetime\",\"open\",\"high\",\"low\",\"close\",\"volume\",\"Close_time\",\"Quote_asset_volume\",\"Number_of_trades\",\"Taker_buy_base_asset_volume\",\"Taker_buy_quote_asset_volume\",\"Ignore\"]\n",
        "    x=datetime.datetime(start_date[0],start_date[1],start_date[2]).timestamp()\n",
        "    y=datetime.datetime(end_date[0],end_date[1],end_date[2]).timestamp()\n",
        "    z=client.get_historical_klines(str(Symbol),interval=str(timeFrame),start_str=str(x),end_str=str(y))\n",
        "    df=pd.DataFrame(z,columns=col)\n",
        "    df.set_index([\"datetime\"],inplace=True)\n",
        "    df.index=pd.to_datetime(df.index,unit=\"ms\")+datetime.timedelta(minutes=30, hours=5)\n",
        "    df[\"open\"]=df[\"open\"].astype(\"float64\")\n",
        "    df[\"high\"]=df[\"high\"].astype(\"float64\")\n",
        "    df[\"low\"]=df[\"low\"].astype(\"float64\")\n",
        "    df[\"close\"]=df[\"close\"].astype(\"float64\")\n",
        "    df[\"volume\"]=df[\"volume\"].astype(\"float64\")\n",
        "    #df=df[[\"open\",\"high\",\"low\",\"close\",\"volume\"]]\n",
        "    if want_csv is True :\n",
        "        df.to_csv(\"{}_{}.csv\".format(Symbol,timeFrame))\n",
        "    return df\n",
        "#m=historical_ohlcv(\"ETHUSDT\",\"1h\",start_date=(2018,1,1),end_date=(2021,12,19))"
      ]
    },
    {
      "cell_type": "code",
      "execution_count": 60,
      "metadata": {
        "colab": {
          "base_uri": "https://localhost:8080/",
          "height": 693
        },
        "id": "2iMk2Tjgg1MH",
        "outputId": "568b7abe-4917-4cdf-c95d-e225b934f0c2"
      },
      "outputs": [
        {
          "data": {
            "text/html": [
              "<div>\n",
              "<style scoped>\n",
              "    .dataframe tbody tr th:only-of-type {\n",
              "        vertical-align: middle;\n",
              "    }\n",
              "\n",
              "    .dataframe tbody tr th {\n",
              "        vertical-align: top;\n",
              "    }\n",
              "\n",
              "    .dataframe thead th {\n",
              "        text-align: right;\n",
              "    }\n",
              "</style>\n",
              "<table border=\"1\" class=\"dataframe\">\n",
              "  <thead>\n",
              "    <tr style=\"text-align: right;\">\n",
              "      <th></th>\n",
              "      <th>open</th>\n",
              "      <th>high</th>\n",
              "      <th>low</th>\n",
              "      <th>close</th>\n",
              "      <th>volume</th>\n",
              "      <th>Close_time</th>\n",
              "      <th>Quote_asset_volume</th>\n",
              "      <th>Number_of_trades</th>\n",
              "      <th>Taker_buy_base_asset_volume</th>\n",
              "      <th>Taker_buy_quote_asset_volume</th>\n",
              "      <th>Ignore</th>\n",
              "    </tr>\n",
              "    <tr>\n",
              "      <th>datetime</th>\n",
              "      <th></th>\n",
              "      <th></th>\n",
              "      <th></th>\n",
              "      <th></th>\n",
              "      <th></th>\n",
              "      <th></th>\n",
              "      <th></th>\n",
              "      <th></th>\n",
              "      <th></th>\n",
              "      <th></th>\n",
              "      <th></th>\n",
              "    </tr>\n",
              "  </thead>\n",
              "  <tbody>\n",
              "    <tr>\n",
              "      <th>2018-01-01 05:30:00</th>\n",
              "      <td>13715.65</td>\n",
              "      <td>13818.55</td>\n",
              "      <td>12750.00</td>\n",
              "      <td>13380.00</td>\n",
              "      <td>8609.915844</td>\n",
              "      <td>1514851199999</td>\n",
              "      <td>114799747.44197057</td>\n",
              "      <td>105595</td>\n",
              "      <td>3961.93894600</td>\n",
              "      <td>52809747.44038045</td>\n",
              "      <td>0</td>\n",
              "    </tr>\n",
              "    <tr>\n",
              "      <th>2018-01-02 05:30:00</th>\n",
              "      <td>13382.16</td>\n",
              "      <td>15473.49</td>\n",
              "      <td>12890.02</td>\n",
              "      <td>14675.11</td>\n",
              "      <td>20078.092111</td>\n",
              "      <td>1514937599999</td>\n",
              "      <td>279717107.43371920</td>\n",
              "      <td>177728</td>\n",
              "      <td>11346.32673900</td>\n",
              "      <td>158080088.68331682</td>\n",
              "      <td>0</td>\n",
              "    </tr>\n",
              "    <tr>\n",
              "      <th>2018-01-03 05:30:00</th>\n",
              "      <td>14690.00</td>\n",
              "      <td>15307.56</td>\n",
              "      <td>14150.00</td>\n",
              "      <td>14919.51</td>\n",
              "      <td>15905.667639</td>\n",
              "      <td>1515023999999</td>\n",
              "      <td>236116868.33619011</td>\n",
              "      <td>162787</td>\n",
              "      <td>8994.95356600</td>\n",
              "      <td>133587333.24534808</td>\n",
              "      <td>0</td>\n",
              "    </tr>\n",
              "  </tbody>\n",
              "</table>\n",
              "</div>"
            ],
            "text/plain": [
              "                         open      high       low     close        volume  \\\n",
              "datetime                                                                    \n",
              "2018-01-01 05:30:00  13715.65  13818.55  12750.00  13380.00   8609.915844   \n",
              "2018-01-02 05:30:00  13382.16  15473.49  12890.02  14675.11  20078.092111   \n",
              "2018-01-03 05:30:00  14690.00  15307.56  14150.00  14919.51  15905.667639   \n",
              "\n",
              "                        Close_time  Quote_asset_volume  Number_of_trades  \\\n",
              "datetime                                                                   \n",
              "2018-01-01 05:30:00  1514851199999  114799747.44197057            105595   \n",
              "2018-01-02 05:30:00  1514937599999  279717107.43371920            177728   \n",
              "2018-01-03 05:30:00  1515023999999  236116868.33619011            162787   \n",
              "\n",
              "                    Taker_buy_base_asset_volume Taker_buy_quote_asset_volume  \\\n",
              "datetime                                                                       \n",
              "2018-01-01 05:30:00               3961.93894600            52809747.44038045   \n",
              "2018-01-02 05:30:00              11346.32673900           158080088.68331682   \n",
              "2018-01-03 05:30:00               8994.95356600           133587333.24534808   \n",
              "\n",
              "                    Ignore  \n",
              "datetime                    \n",
              "2018-01-01 05:30:00      0  \n",
              "2018-01-02 05:30:00      0  \n",
              "2018-01-03 05:30:00      0  "
            ]
          },
          "execution_count": 60,
          "metadata": {},
          "output_type": "execute_result"
        }
      ],
      "source": [
        "df=historical_ohlcv(\"BTCUSDT\",\"1d\",start_date=(2018,1,1),end_date=(2023,12,31),want_csv=True)\n",
        "df.head(3)"
      ]
    },
    {
      "cell_type": "code",
      "execution_count": 63,
      "metadata": {},
      "outputs": [
        {
          "name": "stdout",
          "output_type": "stream",
          "text": [
            "<class 'pandas.core.frame.DataFrame'>\n",
            "DatetimeIndex: 1849 entries, 2018-01-01 05:30:00 to 2023-01-23 05:30:00\n",
            "Data columns (total 11 columns):\n",
            " #   Column                        Non-Null Count  Dtype  \n",
            "---  ------                        --------------  -----  \n",
            " 0   open                          1849 non-null   float64\n",
            " 1   high                          1849 non-null   float64\n",
            " 2   low                           1849 non-null   float64\n",
            " 3   close                         1849 non-null   float64\n",
            " 4   volume                        1849 non-null   float64\n",
            " 5   Close_time                    1849 non-null   int64  \n",
            " 6   Quote_asset_volume            1849 non-null   object \n",
            " 7   Number_of_trades              1849 non-null   int64  \n",
            " 8   Taker_buy_base_asset_volume   1849 non-null   object \n",
            " 9   Taker_buy_quote_asset_volume  1849 non-null   object \n",
            " 10  Ignore                        1849 non-null   object \n",
            "dtypes: float64(5), int64(2), object(4)\n",
            "memory usage: 173.3+ KB\n"
          ]
        }
      ],
      "source": [
        "df.info()"
      ]
    },
    {
      "cell_type": "code",
      "execution_count": 65,
      "metadata": {
        "colab": {
          "base_uri": "https://localhost:8080/",
          "height": 300
        },
        "id": "gjI_Wv4aS_r2",
        "outputId": "6aa04982-6dea-43a3-b725-a81abaebefea"
      },
      "outputs": [
        {
          "data": {
            "text/html": [
              "<div>\n",
              "<style scoped>\n",
              "    .dataframe tbody tr th:only-of-type {\n",
              "        vertical-align: middle;\n",
              "    }\n",
              "\n",
              "    .dataframe tbody tr th {\n",
              "        vertical-align: top;\n",
              "    }\n",
              "\n",
              "    .dataframe thead th {\n",
              "        text-align: right;\n",
              "    }\n",
              "</style>\n",
              "<table border=\"1\" class=\"dataframe\">\n",
              "  <thead>\n",
              "    <tr style=\"text-align: right;\">\n",
              "      <th></th>\n",
              "      <th>open</th>\n",
              "      <th>high</th>\n",
              "      <th>low</th>\n",
              "      <th>close</th>\n",
              "      <th>volume</th>\n",
              "      <th>Close_time</th>\n",
              "      <th>Number_of_trades</th>\n",
              "    </tr>\n",
              "  </thead>\n",
              "  <tbody>\n",
              "    <tr>\n",
              "      <th>count</th>\n",
              "      <td>1849.000000</td>\n",
              "      <td>1849.000000</td>\n",
              "      <td>1849.000000</td>\n",
              "      <td>1849.000000</td>\n",
              "      <td>1849.000000</td>\n",
              "      <td>1.849000e+03</td>\n",
              "      <td>1.849000e+03</td>\n",
              "    </tr>\n",
              "    <tr>\n",
              "      <th>mean</th>\n",
              "      <td>20296.474938</td>\n",
              "      <td>20851.459708</td>\n",
              "      <td>19662.715430</td>\n",
              "      <td>20301.377096</td>\n",
              "      <td>75098.785891</td>\n",
              "      <td>1.594685e+12</td>\n",
              "      <td>1.372765e+06</td>\n",
              "    </tr>\n",
              "    <tr>\n",
              "      <th>std</th>\n",
              "      <td>16876.358460</td>\n",
              "      <td>17348.440918</td>\n",
              "      <td>16328.640044</td>\n",
              "      <td>16875.873538</td>\n",
              "      <td>75335.430090</td>\n",
              "      <td>4.612944e+10</td>\n",
              "      <td>1.709241e+06</td>\n",
              "    </tr>\n",
              "    <tr>\n",
              "      <th>min</th>\n",
              "      <td>3211.710000</td>\n",
              "      <td>3276.500000</td>\n",
              "      <td>3156.260000</td>\n",
              "      <td>3211.720000</td>\n",
              "      <td>1521.537318</td>\n",
              "      <td>1.514851e+12</td>\n",
              "      <td>1.241700e+04</td>\n",
              "    </tr>\n",
              "    <tr>\n",
              "      <th>25%</th>\n",
              "      <td>7735.670000</td>\n",
              "      <td>7975.000000</td>\n",
              "      <td>7467.050000</td>\n",
              "      <td>7730.930000</td>\n",
              "      <td>34012.242132</td>\n",
              "      <td>1.554768e+12</td>\n",
              "      <td>3.062020e+05</td>\n",
              "    </tr>\n",
              "    <tr>\n",
              "      <th>50%</th>\n",
              "      <td>11071.360000</td>\n",
              "      <td>11455.000000</td>\n",
              "      <td>10766.030000</td>\n",
              "      <td>11071.350000</td>\n",
              "      <td>50119.066932</td>\n",
              "      <td>1.594685e+12</td>\n",
              "      <td>7.574580e+05</td>\n",
              "    </tr>\n",
              "    <tr>\n",
              "      <th>75%</th>\n",
              "      <td>33502.330000</td>\n",
              "      <td>34666.000000</td>\n",
              "      <td>31915.400000</td>\n",
              "      <td>33502.870000</td>\n",
              "      <td>82406.777448</td>\n",
              "      <td>1.634602e+12</td>\n",
              "      <td>1.613775e+06</td>\n",
              "    </tr>\n",
              "    <tr>\n",
              "      <th>max</th>\n",
              "      <td>67525.820000</td>\n",
              "      <td>69000.000000</td>\n",
              "      <td>66222.400000</td>\n",
              "      <td>67525.830000</td>\n",
              "      <td>760705.362783</td>\n",
              "      <td>1.674518e+12</td>\n",
              "      <td>1.453060e+07</td>\n",
              "    </tr>\n",
              "  </tbody>\n",
              "</table>\n",
              "</div>"
            ],
            "text/plain": [
              "               open          high           low         close         volume  \\\n",
              "count   1849.000000   1849.000000   1849.000000   1849.000000    1849.000000   \n",
              "mean   20296.474938  20851.459708  19662.715430  20301.377096   75098.785891   \n",
              "std    16876.358460  17348.440918  16328.640044  16875.873538   75335.430090   \n",
              "min     3211.710000   3276.500000   3156.260000   3211.720000    1521.537318   \n",
              "25%     7735.670000   7975.000000   7467.050000   7730.930000   34012.242132   \n",
              "50%    11071.360000  11455.000000  10766.030000  11071.350000   50119.066932   \n",
              "75%    33502.330000  34666.000000  31915.400000  33502.870000   82406.777448   \n",
              "max    67525.820000  69000.000000  66222.400000  67525.830000  760705.362783   \n",
              "\n",
              "         Close_time  Number_of_trades  \n",
              "count  1.849000e+03      1.849000e+03  \n",
              "mean   1.594685e+12      1.372765e+06  \n",
              "std    4.612944e+10      1.709241e+06  \n",
              "min    1.514851e+12      1.241700e+04  \n",
              "25%    1.554768e+12      3.062020e+05  \n",
              "50%    1.594685e+12      7.574580e+05  \n",
              "75%    1.634602e+12      1.613775e+06  \n",
              "max    1.674518e+12      1.453060e+07  "
            ]
          },
          "execution_count": 65,
          "metadata": {},
          "output_type": "execute_result"
        }
      ],
      "source": [
        "df.describe()"
      ]
    },
    {
      "cell_type": "code",
      "execution_count": 67,
      "metadata": {
        "colab": {
          "base_uri": "https://localhost:8080/",
          "height": 692
        },
        "id": "UbgULkEjhsdc",
        "outputId": "4c61f664-6f8f-49bf-c8a4-5362af59ed82"
      },
      "outputs": [
        {
          "data": {
            "text/html": [
              "<div>\n",
              "<style scoped>\n",
              "    .dataframe tbody tr th:only-of-type {\n",
              "        vertical-align: middle;\n",
              "    }\n",
              "\n",
              "    .dataframe tbody tr th {\n",
              "        vertical-align: top;\n",
              "    }\n",
              "\n",
              "    .dataframe thead th {\n",
              "        text-align: right;\n",
              "    }\n",
              "</style>\n",
              "<table border=\"1\" class=\"dataframe\">\n",
              "  <thead>\n",
              "    <tr style=\"text-align: right;\">\n",
              "      <th></th>\n",
              "      <th>open</th>\n",
              "      <th>high</th>\n",
              "      <th>low</th>\n",
              "      <th>close</th>\n",
              "      <th>volume</th>\n",
              "      <th>Close_time</th>\n",
              "      <th>Quote_asset_volume</th>\n",
              "      <th>Number_of_trades</th>\n",
              "      <th>Taker_buy_base_asset_volume</th>\n",
              "      <th>Taker_buy_quote_asset_volume</th>\n",
              "      <th>Ignore</th>\n",
              "      <th>returns</th>\n",
              "      <th>day</th>\n",
              "      <th>month</th>\n",
              "      <th>Year</th>\n",
              "    </tr>\n",
              "    <tr>\n",
              "      <th>datetime</th>\n",
              "      <th></th>\n",
              "      <th></th>\n",
              "      <th></th>\n",
              "      <th></th>\n",
              "      <th></th>\n",
              "      <th></th>\n",
              "      <th></th>\n",
              "      <th></th>\n",
              "      <th></th>\n",
              "      <th></th>\n",
              "      <th></th>\n",
              "      <th></th>\n",
              "      <th></th>\n",
              "      <th></th>\n",
              "      <th></th>\n",
              "    </tr>\n",
              "  </thead>\n",
              "  <tbody>\n",
              "    <tr>\n",
              "      <th>2018-01-01 05:30:00</th>\n",
              "      <td>13715.65</td>\n",
              "      <td>13818.55</td>\n",
              "      <td>12750.00</td>\n",
              "      <td>13380.00</td>\n",
              "      <td>8609.915844</td>\n",
              "      <td>1514851199999</td>\n",
              "      <td>114799747.44197057</td>\n",
              "      <td>105595</td>\n",
              "      <td>3961.93894600</td>\n",
              "      <td>52809747.44038045</td>\n",
              "      <td>0</td>\n",
              "      <td>NaN</td>\n",
              "      <td>Monday</td>\n",
              "      <td>January</td>\n",
              "      <td>2018</td>\n",
              "    </tr>\n",
              "    <tr>\n",
              "      <th>2018-01-02 05:30:00</th>\n",
              "      <td>13382.16</td>\n",
              "      <td>15473.49</td>\n",
              "      <td>12890.02</td>\n",
              "      <td>14675.11</td>\n",
              "      <td>20078.092111</td>\n",
              "      <td>1514937599999</td>\n",
              "      <td>279717107.43371920</td>\n",
              "      <td>177728</td>\n",
              "      <td>11346.32673900</td>\n",
              "      <td>158080088.68331682</td>\n",
              "      <td>0</td>\n",
              "      <td>0.096794</td>\n",
              "      <td>Tuesday</td>\n",
              "      <td>January</td>\n",
              "      <td>2018</td>\n",
              "    </tr>\n",
              "    <tr>\n",
              "      <th>2018-01-03 05:30:00</th>\n",
              "      <td>14690.00</td>\n",
              "      <td>15307.56</td>\n",
              "      <td>14150.00</td>\n",
              "      <td>14919.51</td>\n",
              "      <td>15905.667639</td>\n",
              "      <td>1515023999999</td>\n",
              "      <td>236116868.33619011</td>\n",
              "      <td>162787</td>\n",
              "      <td>8994.95356600</td>\n",
              "      <td>133587333.24534808</td>\n",
              "      <td>0</td>\n",
              "      <td>0.016654</td>\n",
              "      <td>Wednesday</td>\n",
              "      <td>January</td>\n",
              "      <td>2018</td>\n",
              "    </tr>\n",
              "    <tr>\n",
              "      <th>2018-01-04 05:30:00</th>\n",
              "      <td>14919.51</td>\n",
              "      <td>15280.00</td>\n",
              "      <td>13918.04</td>\n",
              "      <td>15059.54</td>\n",
              "      <td>21329.649574</td>\n",
              "      <td>1515110399999</td>\n",
              "      <td>312781583.79830782</td>\n",
              "      <td>170310</td>\n",
              "      <td>12680.81295100</td>\n",
              "      <td>186116793.01158931</td>\n",
              "      <td>0</td>\n",
              "      <td>0.009386</td>\n",
              "      <td>Thursday</td>\n",
              "      <td>January</td>\n",
              "      <td>2018</td>\n",
              "    </tr>\n",
              "    <tr>\n",
              "      <th>2018-01-05 05:30:00</th>\n",
              "      <td>15059.56</td>\n",
              "      <td>17176.24</td>\n",
              "      <td>14600.00</td>\n",
              "      <td>16960.39</td>\n",
              "      <td>23251.491125</td>\n",
              "      <td>1515196799999</td>\n",
              "      <td>369321956.48683753</td>\n",
              "      <td>192969</td>\n",
              "      <td>13346.62229300</td>\n",
              "      <td>211829900.67898224</td>\n",
              "      <td>0</td>\n",
              "      <td>0.126222</td>\n",
              "      <td>Friday</td>\n",
              "      <td>January</td>\n",
              "      <td>2018</td>\n",
              "    </tr>\n",
              "  </tbody>\n",
              "</table>\n",
              "</div>"
            ],
            "text/plain": [
              "                         open      high       low     close        volume  \\\n",
              "datetime                                                                    \n",
              "2018-01-01 05:30:00  13715.65  13818.55  12750.00  13380.00   8609.915844   \n",
              "2018-01-02 05:30:00  13382.16  15473.49  12890.02  14675.11  20078.092111   \n",
              "2018-01-03 05:30:00  14690.00  15307.56  14150.00  14919.51  15905.667639   \n",
              "2018-01-04 05:30:00  14919.51  15280.00  13918.04  15059.54  21329.649574   \n",
              "2018-01-05 05:30:00  15059.56  17176.24  14600.00  16960.39  23251.491125   \n",
              "\n",
              "                        Close_time  Quote_asset_volume  Number_of_trades  \\\n",
              "datetime                                                                   \n",
              "2018-01-01 05:30:00  1514851199999  114799747.44197057            105595   \n",
              "2018-01-02 05:30:00  1514937599999  279717107.43371920            177728   \n",
              "2018-01-03 05:30:00  1515023999999  236116868.33619011            162787   \n",
              "2018-01-04 05:30:00  1515110399999  312781583.79830782            170310   \n",
              "2018-01-05 05:30:00  1515196799999  369321956.48683753            192969   \n",
              "\n",
              "                    Taker_buy_base_asset_volume Taker_buy_quote_asset_volume  \\\n",
              "datetime                                                                       \n",
              "2018-01-01 05:30:00               3961.93894600            52809747.44038045   \n",
              "2018-01-02 05:30:00              11346.32673900           158080088.68331682   \n",
              "2018-01-03 05:30:00               8994.95356600           133587333.24534808   \n",
              "2018-01-04 05:30:00              12680.81295100           186116793.01158931   \n",
              "2018-01-05 05:30:00              13346.62229300           211829900.67898224   \n",
              "\n",
              "                    Ignore   returns        day    month  Year  \n",
              "datetime                                                        \n",
              "2018-01-01 05:30:00      0       NaN     Monday  January  2018  \n",
              "2018-01-02 05:30:00      0  0.096794    Tuesday  January  2018  \n",
              "2018-01-03 05:30:00      0  0.016654  Wednesday  January  2018  \n",
              "2018-01-04 05:30:00      0  0.009386   Thursday  January  2018  \n",
              "2018-01-05 05:30:00      0  0.126222     Friday  January  2018  "
            ]
          },
          "execution_count": 67,
          "metadata": {},
          "output_type": "execute_result"
        }
      ],
      "source": [
        "df[\"returns\"]=df[\"close\"].pct_change()\n",
        "df[\"day\"]=df.index.day_name()\n",
        "df[\"month\"]=df.index.month_name()\n",
        "df[\"Year\"]=df.index.year\n",
        "df.head()"
      ]
    },
    {
      "cell_type": "code",
      "execution_count": 70,
      "metadata": {},
      "outputs": [
        {
          "data": {
            "image/png": "[encoded data removed]",
            "text/plain": [
              "<Figure size 1080x648 with 1 Axes>"
            ]
          },
          "metadata": {
            "needs_background": "light"
          },
          "output_type": "display_data"
        }
      ],
      "source": [
        "plt.figure(figsize=(15,9))\n",
        "sns.histplot(df.returns,kde=True);"
      ]
    },
    {
      "cell_type": "code",
      "execution_count": 82,
      "metadata": {},
      "outputs": [
        {
          "data": {
            "text/plain": [
              "<AxesSubplot:xlabel='month'>"
            ]
          },
          "execution_count": 82,
          "metadata": {},
          "output_type": "execute_result"
        },
        {
          "data": {
            "image/png": "[encoded data removed]",
            "text/plain": [
              "<Figure size 1080x648 with 1 Axes>"
            ]
          },
          "metadata": {
            "needs_background": "light"
          },
          "output_type": "display_data"
        }
      ],
      "source": [
        "# month-wise avg return\n",
        "df.groupby(by=[\"month\"])[\"returns\"].agg([\"mean\"]).plot(figsize=(15,9),rot=90,kind=\"bar\");"
      ]
    },
    {
      "cell_type": "code",
      "execution_count": 83,
      "metadata": {},
      "outputs": [
        {
          "data": {
            "image/png": "[encoded data removed]",
            "text/plain": [
              "<Figure size 1080x648 with 1 Axes>"
            ]
          },
          "metadata": {
            "needs_background": "light"
          },
          "output_type": "display_data"
        }
      ],
      "source": [
        "# Year-month-wise avg return\n",
        "df.groupby(by=[\"Year\",\"month\"])[\"returns\"].agg([\"mean\"]).plot(figsize=(15,9),rot=90,kind=\"bar\");"
      ]
    },
    {
      "cell_type": "code",
      "execution_count": 95,
      "metadata": {},
      "outputs": [
        {
          "data": {
            "text/plain": [
              "<AxesSubplot:xlabel='Year,month'>"
            ]
          },
          "execution_count": 95,
          "metadata": {},
          "output_type": "execute_result"
        },
        {
          "data": {
            "image/png": "[encoded data removed]",
            "text/plain": [
              "<Figure size 1080x648 with 1 Axes>"
            ]
          },
          "metadata": {
            "needs_background": "light"
          },
          "output_type": "display_data"
        }
      ],
      "source": [
        "# highest Volume month\n",
        "df.groupby(by=[\"Year\",\"month\"])[\"volume\"].sum().plot(figsize=(15,9),rot=90,kind=\"bar\")"
      ]
    },
    {
      "cell_type": "code",
      "execution_count": null,
      "metadata": {},
      "outputs": [],
      "source": []
    }
  ],
  "metadata": {
    "colab": {
      "provenance": []
    },
    "kernelspec": {
      "display_name": "Python 3",
      "language": "python",
      "name": "python3"
    },
    "language_info": {
      "codemirror_mode": {
        "name": "ipython",
        "version": 3
      },
      "file_extension": ".py",
      "mimetype": "text/x-python",
      "name": "python",
      "nbconvert_exporter": "python",
      "pygments_lexer": "ipython3",
      "version": "3.10.5 (tags/v3.10.5:f377153, Jun  6 2022, 16:14:13) [MSC v.1929 64 bit (AMD64)]"
    },
    "vscode": {
      "interpreter": {
        "hash": "2047d04dd4aad5d0597cc0e0a4e353ce43b5170250011389bcad82855315595d"
      }
    }
  },
  "nbformat": 4,
  "nbformat_minor": 0
}
